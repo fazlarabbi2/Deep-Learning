{
 "cells": [
  {
   "cell_type": "code",
   "execution_count": 1,
   "id": "0a34fbe1",
   "metadata": {
    "_cell_guid": "b1076dfc-b9ad-4769-8c92-a6c4dae69d19",
    "_uuid": "8f2839f25d086af736a60e9eeb907d3b93b6e0e5",
    "execution": {
     "iopub.execute_input": "2022-07-20T17:50:22.359144Z",
     "iopub.status.busy": "2022-07-20T17:50:22.358703Z",
     "iopub.status.idle": "2022-07-20T17:50:22.378812Z",
     "shell.execute_reply": "2022-07-20T17:50:22.377886Z"
    },
    "papermill": {
     "duration": 0.031742,
     "end_time": "2022-07-20T17:50:22.380828",
     "exception": false,
     "start_time": "2022-07-20T17:50:22.349086",
     "status": "completed"
    },
    "tags": []
   },
   "outputs": [
    {
     "name": "stdout",
     "output_type": "stream",
     "text": [
      "/kaggle/input/churn-prediction/Churn_Modelling.csv\n"
     ]
    }
   ],
   "source": [
    "# This Python 3 environment comes with many helpful analytics libraries installed\n",
    "# It is defined by the kaggle/python Docker image: https://github.com/kaggle/docker-python\n",
    "# For example, here's several helpful packages to load\n",
    "\n",
    "import numpy as np # linear algebra\n",
    "import pandas as pd # data processing, CSV file I/O (e.g. pd.read_csv)\n",
    "\n",
    "# Input data files are available in the read-only \"../input/\" directory\n",
    "# For example, running this (by clicking run or pressing Shift+Enter) will list all files under the input directory\n",
    "\n",
    "import os\n",
    "for dirname, _, filenames in os.walk('/kaggle/input'):\n",
    "    for filename in filenames:\n",
    "        print(os.path.join(dirname, filename))\n",
    "\n",
    "# You can write up to 20GB to the current directory (/kaggle/working/) that gets preserved as output when you create a version using \"Save & Run All\" \n",
    "# You can also write temporary files to /kaggle/temp/, but they won't be saved outside of the current session"
   ]
  },
  {
   "cell_type": "code",
   "execution_count": 2,
   "id": "f7fd4d75",
   "metadata": {
    "execution": {
     "iopub.execute_input": "2022-07-20T17:50:22.396558Z",
     "iopub.status.busy": "2022-07-20T17:50:22.395811Z",
     "iopub.status.idle": "2022-07-20T17:50:22.432336Z",
     "shell.execute_reply": "2022-07-20T17:50:22.431503Z"
    },
    "papermill": {
     "duration": 0.046947,
     "end_time": "2022-07-20T17:50:22.434797",
     "exception": false,
     "start_time": "2022-07-20T17:50:22.387850",
     "status": "completed"
    },
    "tags": []
   },
   "outputs": [],
   "source": [
    "df = pd.read_csv('/kaggle/input/churn-prediction/Churn_Modelling.csv')"
   ]
  },
  {
   "cell_type": "code",
   "execution_count": 3,
   "id": "8d23d60c",
   "metadata": {
    "execution": {
     "iopub.execute_input": "2022-07-20T17:50:22.449890Z",
     "iopub.status.busy": "2022-07-20T17:50:22.449629Z",
     "iopub.status.idle": "2022-07-20T17:50:22.471112Z",
     "shell.execute_reply": "2022-07-20T17:50:22.470122Z"
    },
    "papermill": {
     "duration": 0.03187,
     "end_time": "2022-07-20T17:50:22.473768",
     "exception": false,
     "start_time": "2022-07-20T17:50:22.441898",
     "status": "completed"
    },
    "tags": []
   },
   "outputs": [
    {
     "data": {
      "text/html": [
       "<div>\n",
       "<style scoped>\n",
       "    .dataframe tbody tr th:only-of-type {\n",
       "        vertical-align: middle;\n",
       "    }\n",
       "\n",
       "    .dataframe tbody tr th {\n",
       "        vertical-align: top;\n",
       "    }\n",
       "\n",
       "    .dataframe thead th {\n",
       "        text-align: right;\n",
       "    }\n",
       "</style>\n",
       "<table border=\"1\" class=\"dataframe\">\n",
       "  <thead>\n",
       "    <tr style=\"text-align: right;\">\n",
       "      <th></th>\n",
       "      <th>RowNumber</th>\n",
       "      <th>CustomerId</th>\n",
       "      <th>Surname</th>\n",
       "      <th>CreditScore</th>\n",
       "      <th>Geography</th>\n",
       "      <th>Gender</th>\n",
       "      <th>Age</th>\n",
       "      <th>Tenure</th>\n",
       "      <th>Balance</th>\n",
       "      <th>NumOfProducts</th>\n",
       "      <th>HasCrCard</th>\n",
       "      <th>IsActiveMember</th>\n",
       "      <th>EstimatedSalary</th>\n",
       "      <th>Exited</th>\n",
       "    </tr>\n",
       "  </thead>\n",
       "  <tbody>\n",
       "    <tr>\n",
       "      <th>0</th>\n",
       "      <td>1</td>\n",
       "      <td>15634602</td>\n",
       "      <td>Hargrave</td>\n",
       "      <td>619</td>\n",
       "      <td>France</td>\n",
       "      <td>Female</td>\n",
       "      <td>42</td>\n",
       "      <td>2</td>\n",
       "      <td>0.00</td>\n",
       "      <td>1</td>\n",
       "      <td>1</td>\n",
       "      <td>1</td>\n",
       "      <td>101348.88</td>\n",
       "      <td>1</td>\n",
       "    </tr>\n",
       "    <tr>\n",
       "      <th>1</th>\n",
       "      <td>2</td>\n",
       "      <td>15647311</td>\n",
       "      <td>Hill</td>\n",
       "      <td>608</td>\n",
       "      <td>Spain</td>\n",
       "      <td>Female</td>\n",
       "      <td>41</td>\n",
       "      <td>1</td>\n",
       "      <td>83807.86</td>\n",
       "      <td>1</td>\n",
       "      <td>0</td>\n",
       "      <td>1</td>\n",
       "      <td>112542.58</td>\n",
       "      <td>0</td>\n",
       "    </tr>\n",
       "    <tr>\n",
       "      <th>2</th>\n",
       "      <td>3</td>\n",
       "      <td>15619304</td>\n",
       "      <td>Onio</td>\n",
       "      <td>502</td>\n",
       "      <td>France</td>\n",
       "      <td>Female</td>\n",
       "      <td>42</td>\n",
       "      <td>8</td>\n",
       "      <td>159660.80</td>\n",
       "      <td>3</td>\n",
       "      <td>1</td>\n",
       "      <td>0</td>\n",
       "      <td>113931.57</td>\n",
       "      <td>1</td>\n",
       "    </tr>\n",
       "    <tr>\n",
       "      <th>3</th>\n",
       "      <td>4</td>\n",
       "      <td>15701354</td>\n",
       "      <td>Boni</td>\n",
       "      <td>699</td>\n",
       "      <td>France</td>\n",
       "      <td>Female</td>\n",
       "      <td>39</td>\n",
       "      <td>1</td>\n",
       "      <td>0.00</td>\n",
       "      <td>2</td>\n",
       "      <td>0</td>\n",
       "      <td>0</td>\n",
       "      <td>93826.63</td>\n",
       "      <td>0</td>\n",
       "    </tr>\n",
       "    <tr>\n",
       "      <th>4</th>\n",
       "      <td>5</td>\n",
       "      <td>15737888</td>\n",
       "      <td>Mitchell</td>\n",
       "      <td>850</td>\n",
       "      <td>Spain</td>\n",
       "      <td>Female</td>\n",
       "      <td>43</td>\n",
       "      <td>2</td>\n",
       "      <td>125510.82</td>\n",
       "      <td>1</td>\n",
       "      <td>1</td>\n",
       "      <td>1</td>\n",
       "      <td>79084.10</td>\n",
       "      <td>0</td>\n",
       "    </tr>\n",
       "  </tbody>\n",
       "</table>\n",
       "</div>"
      ],
      "text/plain": [
       "   RowNumber  CustomerId   Surname  CreditScore Geography  Gender  Age  \\\n",
       "0          1    15634602  Hargrave          619    France  Female   42   \n",
       "1          2    15647311      Hill          608     Spain  Female   41   \n",
       "2          3    15619304      Onio          502    France  Female   42   \n",
       "3          4    15701354      Boni          699    France  Female   39   \n",
       "4          5    15737888  Mitchell          850     Spain  Female   43   \n",
       "\n",
       "   Tenure    Balance  NumOfProducts  HasCrCard  IsActiveMember  \\\n",
       "0       2       0.00              1          1               1   \n",
       "1       1   83807.86              1          0               1   \n",
       "2       8  159660.80              3          1               0   \n",
       "3       1       0.00              2          0               0   \n",
       "4       2  125510.82              1          1               1   \n",
       "\n",
       "   EstimatedSalary  Exited  \n",
       "0        101348.88       1  \n",
       "1        112542.58       0  \n",
       "2        113931.57       1  \n",
       "3         93826.63       0  \n",
       "4         79084.10       0  "
      ]
     },
     "execution_count": 3,
     "metadata": {},
     "output_type": "execute_result"
    }
   ],
   "source": [
    "df.head()"
   ]
  },
  {
   "cell_type": "code",
   "execution_count": 4,
   "id": "7ddaf388",
   "metadata": {
    "execution": {
     "iopub.execute_input": "2022-07-20T17:50:22.489903Z",
     "iopub.status.busy": "2022-07-20T17:50:22.489662Z",
     "iopub.status.idle": "2022-07-20T17:50:22.499182Z",
     "shell.execute_reply": "2022-07-20T17:50:22.498070Z"
    },
    "papermill": {
     "duration": 0.019831,
     "end_time": "2022-07-20T17:50:22.501128",
     "exception": false,
     "start_time": "2022-07-20T17:50:22.481297",
     "status": "completed"
    },
    "tags": []
   },
   "outputs": [],
   "source": [
    "df.drop(columns=['RowNumber','CustomerId','Surname'],inplace=True)"
   ]
  },
  {
   "cell_type": "code",
   "execution_count": 5,
   "id": "497e63dc",
   "metadata": {
    "execution": {
     "iopub.execute_input": "2022-07-20T17:50:22.517107Z",
     "iopub.status.busy": "2022-07-20T17:50:22.516344Z",
     "iopub.status.idle": "2022-07-20T17:50:22.527421Z",
     "shell.execute_reply": "2022-07-20T17:50:22.526461Z"
    },
    "papermill": {
     "duration": 0.021568,
     "end_time": "2022-07-20T17:50:22.529778",
     "exception": false,
     "start_time": "2022-07-20T17:50:22.508210",
     "status": "completed"
    },
    "tags": []
   },
   "outputs": [
    {
     "data": {
      "text/plain": [
       "France     5014\n",
       "Germany    2509\n",
       "Spain      2477\n",
       "Name: Geography, dtype: int64"
      ]
     },
     "execution_count": 5,
     "metadata": {},
     "output_type": "execute_result"
    }
   ],
   "source": [
    "df['Geography'].value_counts()"
   ]
  },
  {
   "cell_type": "code",
   "execution_count": 6,
   "id": "a42feebe",
   "metadata": {
    "execution": {
     "iopub.execute_input": "2022-07-20T17:50:22.546143Z",
     "iopub.status.busy": "2022-07-20T17:50:22.545362Z",
     "iopub.status.idle": "2022-07-20T17:50:22.553860Z",
     "shell.execute_reply": "2022-07-20T17:50:22.552731Z"
    },
    "papermill": {
     "duration": 0.018698,
     "end_time": "2022-07-20T17:50:22.555990",
     "exception": false,
     "start_time": "2022-07-20T17:50:22.537292",
     "status": "completed"
    },
    "tags": []
   },
   "outputs": [
    {
     "data": {
      "text/plain": [
       "Male      5457\n",
       "Female    4543\n",
       "Name: Gender, dtype: int64"
      ]
     },
     "execution_count": 6,
     "metadata": {},
     "output_type": "execute_result"
    }
   ],
   "source": [
    "df['Gender'].value_counts()"
   ]
  },
  {
   "cell_type": "code",
   "execution_count": 7,
   "id": "03595e61",
   "metadata": {
    "execution": {
     "iopub.execute_input": "2022-07-20T17:50:22.573224Z",
     "iopub.status.busy": "2022-07-20T17:50:22.572385Z",
     "iopub.status.idle": "2022-07-20T17:50:22.591270Z",
     "shell.execute_reply": "2022-07-20T17:50:22.590396Z"
    },
    "papermill": {
     "duration": 0.030078,
     "end_time": "2022-07-20T17:50:22.594270",
     "exception": false,
     "start_time": "2022-07-20T17:50:22.564192",
     "status": "completed"
    },
    "tags": []
   },
   "outputs": [
    {
     "data": {
      "text/html": [
       "<div>\n",
       "<style scoped>\n",
       "    .dataframe tbody tr th:only-of-type {\n",
       "        vertical-align: middle;\n",
       "    }\n",
       "\n",
       "    .dataframe tbody tr th {\n",
       "        vertical-align: top;\n",
       "    }\n",
       "\n",
       "    .dataframe thead th {\n",
       "        text-align: right;\n",
       "    }\n",
       "</style>\n",
       "<table border=\"1\" class=\"dataframe\">\n",
       "  <thead>\n",
       "    <tr style=\"text-align: right;\">\n",
       "      <th></th>\n",
       "      <th>CreditScore</th>\n",
       "      <th>Geography</th>\n",
       "      <th>Gender</th>\n",
       "      <th>Age</th>\n",
       "      <th>Tenure</th>\n",
       "      <th>Balance</th>\n",
       "      <th>NumOfProducts</th>\n",
       "      <th>HasCrCard</th>\n",
       "      <th>IsActiveMember</th>\n",
       "      <th>EstimatedSalary</th>\n",
       "      <th>Exited</th>\n",
       "    </tr>\n",
       "  </thead>\n",
       "  <tbody>\n",
       "    <tr>\n",
       "      <th>0</th>\n",
       "      <td>619</td>\n",
       "      <td>France</td>\n",
       "      <td>Female</td>\n",
       "      <td>42</td>\n",
       "      <td>2</td>\n",
       "      <td>0.00</td>\n",
       "      <td>1</td>\n",
       "      <td>1</td>\n",
       "      <td>1</td>\n",
       "      <td>101348.88</td>\n",
       "      <td>1</td>\n",
       "    </tr>\n",
       "    <tr>\n",
       "      <th>1</th>\n",
       "      <td>608</td>\n",
       "      <td>Spain</td>\n",
       "      <td>Female</td>\n",
       "      <td>41</td>\n",
       "      <td>1</td>\n",
       "      <td>83807.86</td>\n",
       "      <td>1</td>\n",
       "      <td>0</td>\n",
       "      <td>1</td>\n",
       "      <td>112542.58</td>\n",
       "      <td>0</td>\n",
       "    </tr>\n",
       "    <tr>\n",
       "      <th>2</th>\n",
       "      <td>502</td>\n",
       "      <td>France</td>\n",
       "      <td>Female</td>\n",
       "      <td>42</td>\n",
       "      <td>8</td>\n",
       "      <td>159660.80</td>\n",
       "      <td>3</td>\n",
       "      <td>1</td>\n",
       "      <td>0</td>\n",
       "      <td>113931.57</td>\n",
       "      <td>1</td>\n",
       "    </tr>\n",
       "    <tr>\n",
       "      <th>3</th>\n",
       "      <td>699</td>\n",
       "      <td>France</td>\n",
       "      <td>Female</td>\n",
       "      <td>39</td>\n",
       "      <td>1</td>\n",
       "      <td>0.00</td>\n",
       "      <td>2</td>\n",
       "      <td>0</td>\n",
       "      <td>0</td>\n",
       "      <td>93826.63</td>\n",
       "      <td>0</td>\n",
       "    </tr>\n",
       "    <tr>\n",
       "      <th>4</th>\n",
       "      <td>850</td>\n",
       "      <td>Spain</td>\n",
       "      <td>Female</td>\n",
       "      <td>43</td>\n",
       "      <td>2</td>\n",
       "      <td>125510.82</td>\n",
       "      <td>1</td>\n",
       "      <td>1</td>\n",
       "      <td>1</td>\n",
       "      <td>79084.10</td>\n",
       "      <td>0</td>\n",
       "    </tr>\n",
       "  </tbody>\n",
       "</table>\n",
       "</div>"
      ],
      "text/plain": [
       "   CreditScore Geography  Gender  Age  Tenure    Balance  NumOfProducts  \\\n",
       "0          619    France  Female   42       2       0.00              1   \n",
       "1          608     Spain  Female   41       1   83807.86              1   \n",
       "2          502    France  Female   42       8  159660.80              3   \n",
       "3          699    France  Female   39       1       0.00              2   \n",
       "4          850     Spain  Female   43       2  125510.82              1   \n",
       "\n",
       "   HasCrCard  IsActiveMember  EstimatedSalary  Exited  \n",
       "0          1               1        101348.88       1  \n",
       "1          0               1        112542.58       0  \n",
       "2          1               0        113931.57       1  \n",
       "3          0               0         93826.63       0  \n",
       "4          1               1         79084.10       0  "
      ]
     },
     "execution_count": 7,
     "metadata": {},
     "output_type": "execute_result"
    }
   ],
   "source": [
    "df.head()"
   ]
  },
  {
   "cell_type": "code",
   "execution_count": 8,
   "id": "413206ff",
   "metadata": {
    "execution": {
     "iopub.execute_input": "2022-07-20T17:50:22.623676Z",
     "iopub.status.busy": "2022-07-20T17:50:22.623276Z",
     "iopub.status.idle": "2022-07-20T17:50:22.640665Z",
     "shell.execute_reply": "2022-07-20T17:50:22.639792Z"
    },
    "papermill": {
     "duration": 0.034845,
     "end_time": "2022-07-20T17:50:22.642673",
     "exception": false,
     "start_time": "2022-07-20T17:50:22.607828",
     "status": "completed"
    },
    "tags": []
   },
   "outputs": [],
   "source": [
    "df = pd.get_dummies(df, columns=['Geography','Gender'], drop_first=True)"
   ]
  },
  {
   "cell_type": "code",
   "execution_count": 9,
   "id": "983598e1",
   "metadata": {
    "execution": {
     "iopub.execute_input": "2022-07-20T17:50:22.669049Z",
     "iopub.status.busy": "2022-07-20T17:50:22.668115Z",
     "iopub.status.idle": "2022-07-20T17:50:22.686201Z",
     "shell.execute_reply": "2022-07-20T17:50:22.685328Z"
    },
    "papermill": {
     "duration": 0.029671,
     "end_time": "2022-07-20T17:50:22.688127",
     "exception": false,
     "start_time": "2022-07-20T17:50:22.658456",
     "status": "completed"
    },
    "tags": []
   },
   "outputs": [
    {
     "data": {
      "text/html": [
       "<div>\n",
       "<style scoped>\n",
       "    .dataframe tbody tr th:only-of-type {\n",
       "        vertical-align: middle;\n",
       "    }\n",
       "\n",
       "    .dataframe tbody tr th {\n",
       "        vertical-align: top;\n",
       "    }\n",
       "\n",
       "    .dataframe thead th {\n",
       "        text-align: right;\n",
       "    }\n",
       "</style>\n",
       "<table border=\"1\" class=\"dataframe\">\n",
       "  <thead>\n",
       "    <tr style=\"text-align: right;\">\n",
       "      <th></th>\n",
       "      <th>CreditScore</th>\n",
       "      <th>Age</th>\n",
       "      <th>Tenure</th>\n",
       "      <th>Balance</th>\n",
       "      <th>NumOfProducts</th>\n",
       "      <th>HasCrCard</th>\n",
       "      <th>IsActiveMember</th>\n",
       "      <th>EstimatedSalary</th>\n",
       "      <th>Exited</th>\n",
       "      <th>Geography_Germany</th>\n",
       "      <th>Geography_Spain</th>\n",
       "      <th>Gender_Male</th>\n",
       "    </tr>\n",
       "  </thead>\n",
       "  <tbody>\n",
       "    <tr>\n",
       "      <th>0</th>\n",
       "      <td>619</td>\n",
       "      <td>42</td>\n",
       "      <td>2</td>\n",
       "      <td>0.00</td>\n",
       "      <td>1</td>\n",
       "      <td>1</td>\n",
       "      <td>1</td>\n",
       "      <td>101348.88</td>\n",
       "      <td>1</td>\n",
       "      <td>0</td>\n",
       "      <td>0</td>\n",
       "      <td>0</td>\n",
       "    </tr>\n",
       "    <tr>\n",
       "      <th>1</th>\n",
       "      <td>608</td>\n",
       "      <td>41</td>\n",
       "      <td>1</td>\n",
       "      <td>83807.86</td>\n",
       "      <td>1</td>\n",
       "      <td>0</td>\n",
       "      <td>1</td>\n",
       "      <td>112542.58</td>\n",
       "      <td>0</td>\n",
       "      <td>0</td>\n",
       "      <td>1</td>\n",
       "      <td>0</td>\n",
       "    </tr>\n",
       "    <tr>\n",
       "      <th>2</th>\n",
       "      <td>502</td>\n",
       "      <td>42</td>\n",
       "      <td>8</td>\n",
       "      <td>159660.80</td>\n",
       "      <td>3</td>\n",
       "      <td>1</td>\n",
       "      <td>0</td>\n",
       "      <td>113931.57</td>\n",
       "      <td>1</td>\n",
       "      <td>0</td>\n",
       "      <td>0</td>\n",
       "      <td>0</td>\n",
       "    </tr>\n",
       "    <tr>\n",
       "      <th>3</th>\n",
       "      <td>699</td>\n",
       "      <td>39</td>\n",
       "      <td>1</td>\n",
       "      <td>0.00</td>\n",
       "      <td>2</td>\n",
       "      <td>0</td>\n",
       "      <td>0</td>\n",
       "      <td>93826.63</td>\n",
       "      <td>0</td>\n",
       "      <td>0</td>\n",
       "      <td>0</td>\n",
       "      <td>0</td>\n",
       "    </tr>\n",
       "    <tr>\n",
       "      <th>4</th>\n",
       "      <td>850</td>\n",
       "      <td>43</td>\n",
       "      <td>2</td>\n",
       "      <td>125510.82</td>\n",
       "      <td>1</td>\n",
       "      <td>1</td>\n",
       "      <td>1</td>\n",
       "      <td>79084.10</td>\n",
       "      <td>0</td>\n",
       "      <td>0</td>\n",
       "      <td>1</td>\n",
       "      <td>0</td>\n",
       "    </tr>\n",
       "    <tr>\n",
       "      <th>...</th>\n",
       "      <td>...</td>\n",
       "      <td>...</td>\n",
       "      <td>...</td>\n",
       "      <td>...</td>\n",
       "      <td>...</td>\n",
       "      <td>...</td>\n",
       "      <td>...</td>\n",
       "      <td>...</td>\n",
       "      <td>...</td>\n",
       "      <td>...</td>\n",
       "      <td>...</td>\n",
       "      <td>...</td>\n",
       "    </tr>\n",
       "    <tr>\n",
       "      <th>9995</th>\n",
       "      <td>771</td>\n",
       "      <td>39</td>\n",
       "      <td>5</td>\n",
       "      <td>0.00</td>\n",
       "      <td>2</td>\n",
       "      <td>1</td>\n",
       "      <td>0</td>\n",
       "      <td>96270.64</td>\n",
       "      <td>0</td>\n",
       "      <td>0</td>\n",
       "      <td>0</td>\n",
       "      <td>1</td>\n",
       "    </tr>\n",
       "    <tr>\n",
       "      <th>9996</th>\n",
       "      <td>516</td>\n",
       "      <td>35</td>\n",
       "      <td>10</td>\n",
       "      <td>57369.61</td>\n",
       "      <td>1</td>\n",
       "      <td>1</td>\n",
       "      <td>1</td>\n",
       "      <td>101699.77</td>\n",
       "      <td>0</td>\n",
       "      <td>0</td>\n",
       "      <td>0</td>\n",
       "      <td>1</td>\n",
       "    </tr>\n",
       "    <tr>\n",
       "      <th>9997</th>\n",
       "      <td>709</td>\n",
       "      <td>36</td>\n",
       "      <td>7</td>\n",
       "      <td>0.00</td>\n",
       "      <td>1</td>\n",
       "      <td>0</td>\n",
       "      <td>1</td>\n",
       "      <td>42085.58</td>\n",
       "      <td>1</td>\n",
       "      <td>0</td>\n",
       "      <td>0</td>\n",
       "      <td>0</td>\n",
       "    </tr>\n",
       "    <tr>\n",
       "      <th>9998</th>\n",
       "      <td>772</td>\n",
       "      <td>42</td>\n",
       "      <td>3</td>\n",
       "      <td>75075.31</td>\n",
       "      <td>2</td>\n",
       "      <td>1</td>\n",
       "      <td>0</td>\n",
       "      <td>92888.52</td>\n",
       "      <td>1</td>\n",
       "      <td>1</td>\n",
       "      <td>0</td>\n",
       "      <td>1</td>\n",
       "    </tr>\n",
       "    <tr>\n",
       "      <th>9999</th>\n",
       "      <td>792</td>\n",
       "      <td>28</td>\n",
       "      <td>4</td>\n",
       "      <td>130142.79</td>\n",
       "      <td>1</td>\n",
       "      <td>1</td>\n",
       "      <td>0</td>\n",
       "      <td>38190.78</td>\n",
       "      <td>0</td>\n",
       "      <td>0</td>\n",
       "      <td>0</td>\n",
       "      <td>0</td>\n",
       "    </tr>\n",
       "  </tbody>\n",
       "</table>\n",
       "<p>10000 rows × 12 columns</p>\n",
       "</div>"
      ],
      "text/plain": [
       "      CreditScore  Age  Tenure    Balance  NumOfProducts  HasCrCard  \\\n",
       "0             619   42       2       0.00              1          1   \n",
       "1             608   41       1   83807.86              1          0   \n",
       "2             502   42       8  159660.80              3          1   \n",
       "3             699   39       1       0.00              2          0   \n",
       "4             850   43       2  125510.82              1          1   \n",
       "...           ...  ...     ...        ...            ...        ...   \n",
       "9995          771   39       5       0.00              2          1   \n",
       "9996          516   35      10   57369.61              1          1   \n",
       "9997          709   36       7       0.00              1          0   \n",
       "9998          772   42       3   75075.31              2          1   \n",
       "9999          792   28       4  130142.79              1          1   \n",
       "\n",
       "      IsActiveMember  EstimatedSalary  Exited  Geography_Germany  \\\n",
       "0                  1        101348.88       1                  0   \n",
       "1                  1        112542.58       0                  0   \n",
       "2                  0        113931.57       1                  0   \n",
       "3                  0         93826.63       0                  0   \n",
       "4                  1         79084.10       0                  0   \n",
       "...              ...              ...     ...                ...   \n",
       "9995               0         96270.64       0                  0   \n",
       "9996               1        101699.77       0                  0   \n",
       "9997               1         42085.58       1                  0   \n",
       "9998               0         92888.52       1                  1   \n",
       "9999               0         38190.78       0                  0   \n",
       "\n",
       "      Geography_Spain  Gender_Male  \n",
       "0                   0            0  \n",
       "1                   1            0  \n",
       "2                   0            0  \n",
       "3                   0            0  \n",
       "4                   1            0  \n",
       "...               ...          ...  \n",
       "9995                0            1  \n",
       "9996                0            1  \n",
       "9997                0            0  \n",
       "9998                0            1  \n",
       "9999                0            0  \n",
       "\n",
       "[10000 rows x 12 columns]"
      ]
     },
     "execution_count": 9,
     "metadata": {},
     "output_type": "execute_result"
    }
   ],
   "source": [
    "df"
   ]
  },
  {
   "cell_type": "code",
   "execution_count": 10,
   "id": "6d5b266b",
   "metadata": {
    "execution": {
     "iopub.execute_input": "2022-07-20T17:50:22.706963Z",
     "iopub.status.busy": "2022-07-20T17:50:22.706239Z",
     "iopub.status.idle": "2022-07-20T17:50:22.712395Z",
     "shell.execute_reply": "2022-07-20T17:50:22.711602Z"
    },
    "papermill": {
     "duration": 0.017593,
     "end_time": "2022-07-20T17:50:22.714466",
     "exception": false,
     "start_time": "2022-07-20T17:50:22.696873",
     "status": "completed"
    },
    "tags": []
   },
   "outputs": [],
   "source": [
    "x=df.drop(columns=['Exited'])\n",
    "y = df['Exited']"
   ]
  },
  {
   "cell_type": "code",
   "execution_count": 11,
   "id": "0b5ba5e6",
   "metadata": {
    "execution": {
     "iopub.execute_input": "2022-07-20T17:50:22.732697Z",
     "iopub.status.busy": "2022-07-20T17:50:22.731937Z",
     "iopub.status.idle": "2022-07-20T17:50:22.738074Z",
     "shell.execute_reply": "2022-07-20T17:50:22.737147Z"
    },
    "papermill": {
     "duration": 0.017224,
     "end_time": "2022-07-20T17:50:22.740156",
     "exception": false,
     "start_time": "2022-07-20T17:50:22.722932",
     "status": "completed"
    },
    "tags": []
   },
   "outputs": [
    {
     "data": {
      "text/plain": [
       "(10000, 11)"
      ]
     },
     "execution_count": 11,
     "metadata": {},
     "output_type": "execute_result"
    }
   ],
   "source": [
    "x.shape"
   ]
  },
  {
   "cell_type": "code",
   "execution_count": 12,
   "id": "48d7f74c",
   "metadata": {
    "execution": {
     "iopub.execute_input": "2022-07-20T17:50:22.758615Z",
     "iopub.status.busy": "2022-07-20T17:50:22.757789Z",
     "iopub.status.idle": "2022-07-20T17:50:22.763740Z",
     "shell.execute_reply": "2022-07-20T17:50:22.762819Z"
    },
    "papermill": {
     "duration": 0.017035,
     "end_time": "2022-07-20T17:50:22.765594",
     "exception": false,
     "start_time": "2022-07-20T17:50:22.748559",
     "status": "completed"
    },
    "tags": []
   },
   "outputs": [
    {
     "data": {
      "text/plain": [
       "(10000,)"
      ]
     },
     "execution_count": 12,
     "metadata": {},
     "output_type": "execute_result"
    }
   ],
   "source": [
    "y.shape"
   ]
  },
  {
   "cell_type": "code",
   "execution_count": 13,
   "id": "aa7f8e3f",
   "metadata": {
    "execution": {
     "iopub.execute_input": "2022-07-20T17:50:22.783889Z",
     "iopub.status.busy": "2022-07-20T17:50:22.783104Z",
     "iopub.status.idle": "2022-07-20T17:50:23.774716Z",
     "shell.execute_reply": "2022-07-20T17:50:23.773542Z"
    },
    "papermill": {
     "duration": 1.003219,
     "end_time": "2022-07-20T17:50:23.777255",
     "exception": false,
     "start_time": "2022-07-20T17:50:22.774036",
     "status": "completed"
    },
    "tags": []
   },
   "outputs": [],
   "source": [
    "from sklearn.model_selection import train_test_split\n",
    "xtrain,xtest,ytrain,ytest = train_test_split(x,y,test_size=.2,random_state=1)"
   ]
  },
  {
   "cell_type": "code",
   "execution_count": 14,
   "id": "4ca9e106",
   "metadata": {
    "execution": {
     "iopub.execute_input": "2022-07-20T17:50:23.797760Z",
     "iopub.status.busy": "2022-07-20T17:50:23.797267Z",
     "iopub.status.idle": "2022-07-20T17:50:23.805437Z",
     "shell.execute_reply": "2022-07-20T17:50:23.804539Z"
    },
    "papermill": {
     "duration": 0.020513,
     "end_time": "2022-07-20T17:50:23.807587",
     "exception": false,
     "start_time": "2022-07-20T17:50:23.787074",
     "status": "completed"
    },
    "tags": []
   },
   "outputs": [
    {
     "data": {
      "text/plain": [
       "(8000, 11)"
      ]
     },
     "execution_count": 14,
     "metadata": {},
     "output_type": "execute_result"
    }
   ],
   "source": [
    "xtrain.shape"
   ]
  },
  {
   "cell_type": "code",
   "execution_count": 15,
   "id": "9de2a9ff",
   "metadata": {
    "execution": {
     "iopub.execute_input": "2022-07-20T17:50:23.827549Z",
     "iopub.status.busy": "2022-07-20T17:50:23.827232Z",
     "iopub.status.idle": "2022-07-20T17:50:23.834422Z",
     "shell.execute_reply": "2022-07-20T17:50:23.833231Z"
    },
    "papermill": {
     "duration": 0.019513,
     "end_time": "2022-07-20T17:50:23.836609",
     "exception": false,
     "start_time": "2022-07-20T17:50:23.817096",
     "status": "completed"
    },
    "tags": []
   },
   "outputs": [
    {
     "data": {
      "text/plain": [
       "(8000,)"
      ]
     },
     "execution_count": 15,
     "metadata": {},
     "output_type": "execute_result"
    }
   ],
   "source": [
    "ytrain.shape"
   ]
  },
  {
   "cell_type": "code",
   "execution_count": 16,
   "id": "8c10de3c",
   "metadata": {
    "execution": {
     "iopub.execute_input": "2022-07-20T17:50:23.856707Z",
     "iopub.status.busy": "2022-07-20T17:50:23.856435Z",
     "iopub.status.idle": "2022-07-20T17:50:23.860880Z",
     "shell.execute_reply": "2022-07-20T17:50:23.859896Z"
    },
    "papermill": {
     "duration": 0.016941,
     "end_time": "2022-07-20T17:50:23.863110",
     "exception": false,
     "start_time": "2022-07-20T17:50:23.846169",
     "status": "completed"
    },
    "tags": []
   },
   "outputs": [],
   "source": [
    "from sklearn.preprocessing import StandardScaler\n",
    "scaler = StandardScaler()"
   ]
  },
  {
   "cell_type": "code",
   "execution_count": 17,
   "id": "61b8a18c",
   "metadata": {
    "execution": {
     "iopub.execute_input": "2022-07-20T17:50:23.883538Z",
     "iopub.status.busy": "2022-07-20T17:50:23.883037Z",
     "iopub.status.idle": "2022-07-20T17:50:23.897180Z",
     "shell.execute_reply": "2022-07-20T17:50:23.896293Z"
    },
    "papermill": {
     "duration": 0.026792,
     "end_time": "2022-07-20T17:50:23.899545",
     "exception": false,
     "start_time": "2022-07-20T17:50:23.872753",
     "status": "completed"
    },
    "tags": []
   },
   "outputs": [],
   "source": [
    "xtrain_scl = scaler.fit_transform(xtrain)\n",
    "xtest_scl = scaler.fit_transform(xtest)"
   ]
  },
  {
   "cell_type": "code",
   "execution_count": 18,
   "id": "14be4e9f",
   "metadata": {
    "execution": {
     "iopub.execute_input": "2022-07-20T17:50:23.919930Z",
     "iopub.status.busy": "2022-07-20T17:50:23.919443Z",
     "iopub.status.idle": "2022-07-20T17:50:23.926154Z",
     "shell.execute_reply": "2022-07-20T17:50:23.925073Z"
    },
    "papermill": {
     "duration": 0.019233,
     "end_time": "2022-07-20T17:50:23.928239",
     "exception": false,
     "start_time": "2022-07-20T17:50:23.909006",
     "status": "completed"
    },
    "tags": []
   },
   "outputs": [
    {
     "data": {
      "text/plain": [
       "array([[-0.23082038, -0.94449979, -0.70174202, ...,  1.71490137,\n",
       "        -0.57273139,  0.91509065],\n",
       "       [-0.25150912, -0.94449979, -0.35520275, ..., -0.58312392,\n",
       "        -0.57273139, -1.09278791],\n",
       "       [-0.3963303 ,  0.77498705,  0.33787579, ...,  1.71490137,\n",
       "        -0.57273139, -1.09278791],\n",
       "       ...,\n",
       "       [ 0.22433188,  0.58393295,  1.3774936 , ..., -0.58312392,\n",
       "        -0.57273139, -1.09278791],\n",
       "       [ 0.13123255,  0.01077067,  1.03095433, ..., -0.58312392,\n",
       "        -0.57273139, -1.09278791],\n",
       "       [ 1.1656695 ,  0.29735181,  0.33787579, ...,  1.71490137,\n",
       "        -0.57273139,  0.91509065]])"
      ]
     },
     "execution_count": 18,
     "metadata": {},
     "output_type": "execute_result"
    }
   ],
   "source": [
    "xtrain_scl"
   ]
  },
  {
   "cell_type": "code",
   "execution_count": 19,
   "id": "df36a95b",
   "metadata": {
    "execution": {
     "iopub.execute_input": "2022-07-20T17:50:23.949835Z",
     "iopub.status.busy": "2022-07-20T17:50:23.949555Z",
     "iopub.status.idle": "2022-07-20T17:50:29.238451Z",
     "shell.execute_reply": "2022-07-20T17:50:29.237489Z"
    },
    "papermill": {
     "duration": 5.302671,
     "end_time": "2022-07-20T17:50:29.240887",
     "exception": false,
     "start_time": "2022-07-20T17:50:23.938216",
     "status": "completed"
    },
    "tags": []
   },
   "outputs": [],
   "source": [
    "import tensorflow \n",
    "from tensorflow import keras\n",
    "from tensorflow.keras import Sequential\n",
    "from tensorflow.keras.layers import Dense"
   ]
  },
  {
   "cell_type": "code",
   "execution_count": 20,
   "id": "a6c56c3d",
   "metadata": {
    "execution": {
     "iopub.execute_input": "2022-07-20T17:50:29.261617Z",
     "iopub.status.busy": "2022-07-20T17:50:29.259891Z",
     "iopub.status.idle": "2022-07-20T17:50:32.059897Z",
     "shell.execute_reply": "2022-07-20T17:50:32.058857Z"
    },
    "papermill": {
     "duration": 2.812789,
     "end_time": "2022-07-20T17:50:32.062414",
     "exception": false,
     "start_time": "2022-07-20T17:50:29.249625",
     "status": "completed"
    },
    "tags": []
   },
   "outputs": [
    {
     "name": "stderr",
     "output_type": "stream",
     "text": [
      "2022-07-20 17:50:29.349642: I tensorflow/stream_executor/cuda/cuda_gpu_executor.cc:937] successful NUMA node read from SysFS had negative value (-1), but there must be at least one NUMA node, so returning NUMA node zero\n",
      "2022-07-20 17:50:29.462465: I tensorflow/stream_executor/cuda/cuda_gpu_executor.cc:937] successful NUMA node read from SysFS had negative value (-1), but there must be at least one NUMA node, so returning NUMA node zero\n",
      "2022-07-20 17:50:29.463223: I tensorflow/stream_executor/cuda/cuda_gpu_executor.cc:937] successful NUMA node read from SysFS had negative value (-1), but there must be at least one NUMA node, so returning NUMA node zero\n",
      "2022-07-20 17:50:29.465249: I tensorflow/core/platform/cpu_feature_guard.cc:142] This TensorFlow binary is optimized with oneAPI Deep Neural Network Library (oneDNN) to use the following CPU instructions in performance-critical operations:  AVX2 AVX512F FMA\n",
      "To enable them in other operations, rebuild TensorFlow with the appropriate compiler flags.\n",
      "2022-07-20 17:50:29.465648: I tensorflow/stream_executor/cuda/cuda_gpu_executor.cc:937] successful NUMA node read from SysFS had negative value (-1), but there must be at least one NUMA node, so returning NUMA node zero\n",
      "2022-07-20 17:50:29.466644: I tensorflow/stream_executor/cuda/cuda_gpu_executor.cc:937] successful NUMA node read from SysFS had negative value (-1), but there must be at least one NUMA node, so returning NUMA node zero\n",
      "2022-07-20 17:50:29.467516: I tensorflow/stream_executor/cuda/cuda_gpu_executor.cc:937] successful NUMA node read from SysFS had negative value (-1), but there must be at least one NUMA node, so returning NUMA node zero\n",
      "2022-07-20 17:50:31.679718: I tensorflow/stream_executor/cuda/cuda_gpu_executor.cc:937] successful NUMA node read from SysFS had negative value (-1), but there must be at least one NUMA node, so returning NUMA node zero\n",
      "2022-07-20 17:50:31.680675: I tensorflow/stream_executor/cuda/cuda_gpu_executor.cc:937] successful NUMA node read from SysFS had negative value (-1), but there must be at least one NUMA node, so returning NUMA node zero\n",
      "2022-07-20 17:50:31.681337: I tensorflow/stream_executor/cuda/cuda_gpu_executor.cc:937] successful NUMA node read from SysFS had negative value (-1), but there must be at least one NUMA node, so returning NUMA node zero\n",
      "2022-07-20 17:50:31.681953: I tensorflow/core/common_runtime/gpu/gpu_device.cc:1510] Created device /job:localhost/replica:0/task:0/device:GPU:0 with 15403 MB memory:  -> device: 0, name: Tesla P100-PCIE-16GB, pci bus id: 0000:00:04.0, compute capability: 6.0\n"
     ]
    }
   ],
   "source": [
    "model = Sequential()\n",
    "model.add(Dense(11, activation='relu',input_dim=11))\n",
    "model.add(Dense(11, activation='relu'))\n",
    "model.add(Dense(5,  activation='relu'))\n",
    "model.add(Dense(1,activation='sigmoid'))"
   ]
  },
  {
   "cell_type": "code",
   "execution_count": 21,
   "id": "f30b907d",
   "metadata": {
    "execution": {
     "iopub.execute_input": "2022-07-20T17:50:32.081872Z",
     "iopub.status.busy": "2022-07-20T17:50:32.081601Z",
     "iopub.status.idle": "2022-07-20T17:50:32.087075Z",
     "shell.execute_reply": "2022-07-20T17:50:32.086078Z"
    },
    "papermill": {
     "duration": 0.018822,
     "end_time": "2022-07-20T17:50:32.090659",
     "exception": false,
     "start_time": "2022-07-20T17:50:32.071837",
     "status": "completed"
    },
    "tags": []
   },
   "outputs": [
    {
     "name": "stdout",
     "output_type": "stream",
     "text": [
      "Model: \"sequential\"\n",
      "_________________________________________________________________\n",
      "Layer (type)                 Output Shape              Param #   \n",
      "=================================================================\n",
      "dense (Dense)                (None, 11)                132       \n",
      "_________________________________________________________________\n",
      "dense_1 (Dense)              (None, 11)                132       \n",
      "_________________________________________________________________\n",
      "dense_2 (Dense)              (None, 5)                 60        \n",
      "_________________________________________________________________\n",
      "dense_3 (Dense)              (None, 1)                 6         \n",
      "=================================================================\n",
      "Total params: 330\n",
      "Trainable params: 330\n",
      "Non-trainable params: 0\n",
      "_________________________________________________________________\n"
     ]
    }
   ],
   "source": [
    "model.summary()"
   ]
  },
  {
   "cell_type": "code",
   "execution_count": 22,
   "id": "66c66f76",
   "metadata": {
    "execution": {
     "iopub.execute_input": "2022-07-20T17:50:32.109158Z",
     "iopub.status.busy": "2022-07-20T17:50:32.108889Z",
     "iopub.status.idle": "2022-07-20T17:50:32.119978Z",
     "shell.execute_reply": "2022-07-20T17:50:32.119062Z"
    },
    "papermill": {
     "duration": 0.022685,
     "end_time": "2022-07-20T17:50:32.122142",
     "exception": false,
     "start_time": "2022-07-20T17:50:32.099457",
     "status": "completed"
    },
    "tags": []
   },
   "outputs": [],
   "source": [
    "model.compile(loss='binary_crossentropy',optimizer='Adam',metrics='accuracy')"
   ]
  },
  {
   "cell_type": "code",
   "execution_count": 23,
   "id": "50edca3d",
   "metadata": {
    "execution": {
     "iopub.execute_input": "2022-07-20T17:50:32.140884Z",
     "iopub.status.busy": "2022-07-20T17:50:32.140641Z",
     "iopub.status.idle": "2022-07-20T17:50:42.871632Z",
     "shell.execute_reply": "2022-07-20T17:50:42.870620Z"
    },
    "papermill": {
     "duration": 10.742706,
     "end_time": "2022-07-20T17:50:42.873872",
     "exception": false,
     "start_time": "2022-07-20T17:50:32.131166",
     "status": "completed"
    },
    "tags": []
   },
   "outputs": [
    {
     "name": "stdout",
     "output_type": "stream",
     "text": [
      "Epoch 1/20\n"
     ]
    },
    {
     "name": "stderr",
     "output_type": "stream",
     "text": [
      "2022-07-20 17:50:32.201589: I tensorflow/compiler/mlir/mlir_graph_optimization_pass.cc:185] None of the MLIR Optimization Passes are enabled (registered 2)\n"
     ]
    },
    {
     "name": "stdout",
     "output_type": "stream",
     "text": [
      "200/200 [==============================] - 2s 3ms/step - loss: 0.5169 - accuracy: 0.7862 - val_loss: 0.4812 - val_accuracy: 0.7975\n",
      "Epoch 2/20\n",
      "200/200 [==============================] - 0s 2ms/step - loss: 0.4663 - accuracy: 0.7972 - val_loss: 0.4583 - val_accuracy: 0.7975\n",
      "Epoch 3/20\n",
      "200/200 [==============================] - 0s 2ms/step - loss: 0.4492 - accuracy: 0.7972 - val_loss: 0.4462 - val_accuracy: 0.7975\n",
      "Epoch 4/20\n",
      "200/200 [==============================] - 0s 2ms/step - loss: 0.4393 - accuracy: 0.7972 - val_loss: 0.4386 - val_accuracy: 0.7975\n",
      "Epoch 5/20\n",
      "200/200 [==============================] - 1s 3ms/step - loss: 0.4332 - accuracy: 0.7984 - val_loss: 0.4340 - val_accuracy: 0.7962\n",
      "Epoch 6/20\n",
      "200/200 [==============================] - 0s 2ms/step - loss: 0.4288 - accuracy: 0.8030 - val_loss: 0.4304 - val_accuracy: 0.7944\n",
      "Epoch 7/20\n",
      "200/200 [==============================] - 0s 2ms/step - loss: 0.4249 - accuracy: 0.8061 - val_loss: 0.4266 - val_accuracy: 0.7962\n",
      "Epoch 8/20\n",
      "200/200 [==============================] - 0s 2ms/step - loss: 0.4204 - accuracy: 0.8064 - val_loss: 0.4215 - val_accuracy: 0.8025\n",
      "Epoch 9/20\n",
      "200/200 [==============================] - 0s 2ms/step - loss: 0.4136 - accuracy: 0.8169 - val_loss: 0.4128 - val_accuracy: 0.8163\n",
      "Epoch 10/20\n",
      "200/200 [==============================] - 0s 2ms/step - loss: 0.4007 - accuracy: 0.8286 - val_loss: 0.3978 - val_accuracy: 0.8225\n",
      "Epoch 11/20\n",
      "200/200 [==============================] - 0s 2ms/step - loss: 0.3857 - accuracy: 0.8386 - val_loss: 0.3839 - val_accuracy: 0.8356\n",
      "Epoch 12/20\n",
      "200/200 [==============================] - 0s 2ms/step - loss: 0.3730 - accuracy: 0.8473 - val_loss: 0.3734 - val_accuracy: 0.8388\n",
      "Epoch 13/20\n",
      "200/200 [==============================] - 0s 2ms/step - loss: 0.3635 - accuracy: 0.8544 - val_loss: 0.3678 - val_accuracy: 0.8438\n",
      "Epoch 14/20\n",
      "200/200 [==============================] - 0s 2ms/step - loss: 0.3582 - accuracy: 0.8583 - val_loss: 0.3640 - val_accuracy: 0.8469\n",
      "Epoch 15/20\n",
      "200/200 [==============================] - 0s 2ms/step - loss: 0.3538 - accuracy: 0.8597 - val_loss: 0.3610 - val_accuracy: 0.8506\n",
      "Epoch 16/20\n",
      "200/200 [==============================] - 0s 2ms/step - loss: 0.3507 - accuracy: 0.8595 - val_loss: 0.3590 - val_accuracy: 0.8494\n",
      "Epoch 17/20\n",
      "200/200 [==============================] - 0s 2ms/step - loss: 0.3483 - accuracy: 0.8612 - val_loss: 0.3569 - val_accuracy: 0.8500\n",
      "Epoch 18/20\n",
      "200/200 [==============================] - 0s 2ms/step - loss: 0.3464 - accuracy: 0.8595 - val_loss: 0.3550 - val_accuracy: 0.8487\n",
      "Epoch 19/20\n",
      "200/200 [==============================] - 0s 2ms/step - loss: 0.3438 - accuracy: 0.8606 - val_loss: 0.3534 - val_accuracy: 0.8487\n",
      "Epoch 20/20\n",
      "200/200 [==============================] - 0s 2ms/step - loss: 0.3424 - accuracy: 0.8611 - val_loss: 0.3542 - val_accuracy: 0.8506\n"
     ]
    }
   ],
   "source": [
    "history = model.fit(xtrain_scl,ytrain,epochs=20, validation_split=.2)"
   ]
  },
  {
   "cell_type": "code",
   "execution_count": 24,
   "id": "0693bb71",
   "metadata": {
    "execution": {
     "iopub.execute_input": "2022-07-20T17:50:42.914777Z",
     "iopub.status.busy": "2022-07-20T17:50:42.914333Z",
     "iopub.status.idle": "2022-07-20T17:50:42.924607Z",
     "shell.execute_reply": "2022-07-20T17:50:42.923627Z"
    },
    "papermill": {
     "duration": 0.032659,
     "end_time": "2022-07-20T17:50:42.926643",
     "exception": false,
     "start_time": "2022-07-20T17:50:42.893984",
     "status": "completed"
    },
    "tags": []
   },
   "outputs": [
    {
     "data": {
      "text/plain": [
       "[array([[-0.0705565 ,  0.10531443, -0.42814845,  0.60355765,  0.5905077 ,\n",
       "         -0.06105655,  0.31868505,  0.1488832 ,  0.10604294,  0.26586145,\n",
       "         -0.3349188 ],\n",
       "        [ 0.6163634 ,  0.59563404, -1.0131029 , -0.12961394, -0.04473912,\n",
       "         -0.28200194, -0.16320534, -0.46682793,  0.8144486 , -0.60234475,\n",
       "         -0.27448013],\n",
       "        [ 0.6220711 , -0.26832014,  0.3680847 ,  0.30105805, -0.02944105,\n",
       "         -0.20435894,  0.0149689 , -0.16814685,  0.23469864, -0.02075182,\n",
       "          0.07742967],\n",
       "        [-0.13639455, -0.14065395,  0.32939115,  0.2810922 ,  0.4443983 ,\n",
       "         -0.21683243, -0.28594977,  0.05553877,  0.2848278 ,  0.18944223,\n",
       "          0.60063666],\n",
       "        [-0.11640162, -0.2665408 ,  0.10653372,  0.23304273,  0.20295772,\n",
       "          0.33211637,  0.47548765, -0.19723031,  0.00990308, -0.0073646 ,\n",
       "          0.34432697],\n",
       "        [-0.59105766, -0.16737327, -0.26806104,  0.40812886, -0.30548555,\n",
       "          0.06489322,  0.24067606, -0.00105472, -0.26318437, -0.45649478,\n",
       "          0.21329965],\n",
       "        [-0.1745846 ,  0.37410262,  0.10963896,  0.13244347, -0.14166738,\n",
       "          0.35613114,  0.04883349,  0.42974564,  0.59932536,  0.20096293,\n",
       "         -0.684509  ],\n",
       "        [ 0.58552665, -0.4768655 , -0.5793617 ,  0.5497544 , -0.15673617,\n",
       "         -0.3034807 ,  0.32886347, -0.18988685, -0.501536  , -0.18023296,\n",
       "         -0.12955704],\n",
       "        [ 0.16518159, -0.39603755,  0.2504548 , -0.00958184,  0.48834047,\n",
       "          0.19824274,  0.6218525 , -0.25457382, -0.6238226 , -0.17368858,\n",
       "          0.05848904],\n",
       "        [-0.326579  , -0.5967354 ,  0.09371992, -0.04419485,  0.0807979 ,\n",
       "          0.47763297,  0.5475642 ,  0.05146075, -0.31947184,  0.15810765,\n",
       "          0.5837454 ],\n",
       "        [-0.12844235,  0.441221  , -0.286662  , -0.17279401, -0.35947353,\n",
       "          0.56346124,  0.14725718,  0.08486926,  0.12053211,  0.16875294,\n",
       "          0.34711593]], dtype=float32),\n",
       " array([-0.02105968,  0.20295182, -0.15924843,  0.01678587,  0.03309058,\n",
       "         0.1612287 , -0.06695792,  0.00491982, -0.31126437, -0.02834198,\n",
       "        -0.13071346], dtype=float32)]"
      ]
     },
     "execution_count": 24,
     "metadata": {},
     "output_type": "execute_result"
    }
   ],
   "source": [
    "model.layers[1].get_weights()"
   ]
  },
  {
   "cell_type": "code",
   "execution_count": 25,
   "id": "cb7537f5",
   "metadata": {
    "execution": {
     "iopub.execute_input": "2022-07-20T17:50:42.966972Z",
     "iopub.status.busy": "2022-07-20T17:50:42.966693Z",
     "iopub.status.idle": "2022-07-20T17:50:43.124086Z",
     "shell.execute_reply": "2022-07-20T17:50:43.123073Z"
    },
    "papermill": {
     "duration": 0.17998,
     "end_time": "2022-07-20T17:50:43.126415",
     "exception": false,
     "start_time": "2022-07-20T17:50:42.946435",
     "status": "completed"
    },
    "tags": []
   },
   "outputs": [],
   "source": [
    "y_log = model.predict(xtest_scl)"
   ]
  },
  {
   "cell_type": "code",
   "execution_count": 26,
   "id": "4f26b213",
   "metadata": {
    "execution": {
     "iopub.execute_input": "2022-07-20T17:50:43.167584Z",
     "iopub.status.busy": "2022-07-20T17:50:43.167294Z",
     "iopub.status.idle": "2022-07-20T17:50:43.172101Z",
     "shell.execute_reply": "2022-07-20T17:50:43.171105Z"
    },
    "papermill": {
     "duration": 0.027972,
     "end_time": "2022-07-20T17:50:43.174116",
     "exception": false,
     "start_time": "2022-07-20T17:50:43.146144",
     "status": "completed"
    },
    "tags": []
   },
   "outputs": [],
   "source": [
    "y_pred = np.where(y_log>0.5,1,0)"
   ]
  },
  {
   "cell_type": "code",
   "execution_count": 27,
   "id": "c279a29a",
   "metadata": {
    "execution": {
     "iopub.execute_input": "2022-07-20T17:50:43.213982Z",
     "iopub.status.busy": "2022-07-20T17:50:43.213485Z",
     "iopub.status.idle": "2022-07-20T17:50:43.221296Z",
     "shell.execute_reply": "2022-07-20T17:50:43.220157Z"
    },
    "papermill": {
     "duration": 0.029938,
     "end_time": "2022-07-20T17:50:43.223372",
     "exception": false,
     "start_time": "2022-07-20T17:50:43.193434",
     "status": "completed"
    },
    "tags": []
   },
   "outputs": [
    {
     "data": {
      "text/plain": [
       "0.857"
      ]
     },
     "execution_count": 27,
     "metadata": {},
     "output_type": "execute_result"
    }
   ],
   "source": [
    "from sklearn.metrics import accuracy_score \n",
    "accuracy_score(ytest, y_pred)"
   ]
  },
  {
   "cell_type": "code",
   "execution_count": 28,
   "id": "4ec39247",
   "metadata": {
    "execution": {
     "iopub.execute_input": "2022-07-20T17:50:43.263057Z",
     "iopub.status.busy": "2022-07-20T17:50:43.262813Z",
     "iopub.status.idle": "2022-07-20T17:50:43.269290Z",
     "shell.execute_reply": "2022-07-20T17:50:43.268446Z"
    },
    "papermill": {
     "duration": 0.02877,
     "end_time": "2022-07-20T17:50:43.271322",
     "exception": false,
     "start_time": "2022-07-20T17:50:43.242552",
     "status": "completed"
    },
    "tags": []
   },
   "outputs": [
    {
     "data": {
      "text/plain": [
       "{'loss': [0.5169061422348022,\n",
       "  0.4662536680698395,\n",
       "  0.449207067489624,\n",
       "  0.4393138885498047,\n",
       "  0.4332185387611389,\n",
       "  0.42880353331565857,\n",
       "  0.4248782694339752,\n",
       "  0.42041388154029846,\n",
       "  0.41355204582214355,\n",
       "  0.40066826343536377,\n",
       "  0.3857368528842926,\n",
       "  0.3730006515979767,\n",
       "  0.3635299801826477,\n",
       "  0.3581635653972626,\n",
       "  0.353826105594635,\n",
       "  0.3506869375705719,\n",
       "  0.3482559323310852,\n",
       "  0.3463618755340576,\n",
       "  0.34377768635749817,\n",
       "  0.3424059748649597],\n",
       " 'accuracy': [0.7862499952316284,\n",
       "  0.7971875071525574,\n",
       "  0.7971875071525574,\n",
       "  0.7971875071525574,\n",
       "  0.7984374761581421,\n",
       "  0.8029687404632568,\n",
       "  0.8060937523841858,\n",
       "  0.8064062595367432,\n",
       "  0.8168749809265137,\n",
       "  0.8285937309265137,\n",
       "  0.8385937213897705,\n",
       "  0.8473437428474426,\n",
       "  0.8543750047683716,\n",
       "  0.8582812547683716,\n",
       "  0.8596875071525574,\n",
       "  0.8595312237739563,\n",
       "  0.8612499833106995,\n",
       "  0.8595312237739563,\n",
       "  0.8606250286102295,\n",
       "  0.8610937595367432],\n",
       " 'val_loss': [0.4811602830886841,\n",
       "  0.45832329988479614,\n",
       "  0.4461888372898102,\n",
       "  0.4386451244354248,\n",
       "  0.4340165853500366,\n",
       "  0.43039044737815857,\n",
       "  0.42659991979599,\n",
       "  0.42148521542549133,\n",
       "  0.4127706289291382,\n",
       "  0.39784812927246094,\n",
       "  0.38391873240470886,\n",
       "  0.37337926030158997,\n",
       "  0.36782559752464294,\n",
       "  0.3639799952507019,\n",
       "  0.36099034547805786,\n",
       "  0.3590012788772583,\n",
       "  0.35685622692108154,\n",
       "  0.35497215390205383,\n",
       "  0.35342010855674744,\n",
       "  0.35420554876327515],\n",
       " 'val_accuracy': [0.7975000143051147,\n",
       "  0.7975000143051147,\n",
       "  0.7975000143051147,\n",
       "  0.7975000143051147,\n",
       "  0.7962499856948853,\n",
       "  0.7943750023841858,\n",
       "  0.7962499856948853,\n",
       "  0.8025000095367432,\n",
       "  0.8162500262260437,\n",
       "  0.8224999904632568,\n",
       "  0.8356249928474426,\n",
       "  0.8387500047683716,\n",
       "  0.84375,\n",
       "  0.846875011920929,\n",
       "  0.8506249785423279,\n",
       "  0.8493750095367432,\n",
       "  0.8500000238418579,\n",
       "  0.8487499952316284,\n",
       "  0.8487499952316284,\n",
       "  0.8506249785423279]}"
      ]
     },
     "execution_count": 28,
     "metadata": {},
     "output_type": "execute_result"
    }
   ],
   "source": [
    "import matplotlib.pyplot as plt\n",
    "history.history"
   ]
  },
  {
   "cell_type": "code",
   "execution_count": 29,
   "id": "ef064f74",
   "metadata": {
    "execution": {
     "iopub.execute_input": "2022-07-20T17:50:43.312197Z",
     "iopub.status.busy": "2022-07-20T17:50:43.311497Z",
     "iopub.status.idle": "2022-07-20T17:50:43.514499Z",
     "shell.execute_reply": "2022-07-20T17:50:43.513623Z"
    },
    "papermill": {
     "duration": 0.225579,
     "end_time": "2022-07-20T17:50:43.516617",
     "exception": false,
     "start_time": "2022-07-20T17:50:43.291038",
     "status": "completed"
    },
    "tags": []
   },
   "outputs": [
    {
     "data": {
      "text/plain": [
       "[<matplotlib.lines.Line2D at 0x7fab51655050>]"
      ]
     },
     "execution_count": 29,
     "metadata": {},
     "output_type": "execute_result"
    },
    {
     "data": {
      "image/png": "[encoded data removed]",
      "text/plain": [
       "<Figure size 432x288 with 1 Axes>"
      ]
     },
     "metadata": {
      "needs_background": "light"
     },
     "output_type": "display_data"
    }
   ],
   "source": [
    "plt.plot(history.history['loss'])"
   ]
  },
  {
   "cell_type": "code",
   "execution_count": 30,
   "id": "a9644240",
   "metadata": {
    "execution": {
     "iopub.execute_input": "2022-07-20T17:50:43.558422Z",
     "iopub.status.busy": "2022-07-20T17:50:43.558140Z",
     "iopub.status.idle": "2022-07-20T17:50:43.732252Z",
     "shell.execute_reply": "2022-07-20T17:50:43.731368Z"
    },
    "papermill": {
     "duration": 0.197168,
     "end_time": "2022-07-20T17:50:43.734277",
     "exception": false,
     "start_time": "2022-07-20T17:50:43.537109",
     "status": "completed"
    },
    "tags": []
   },
   "outputs": [
    {
     "data": {
      "text/plain": [
       "[<matplotlib.lines.Line2D at 0x7fab514d57d0>]"
      ]
     },
     "execution_count": 30,
     "metadata": {},
     "output_type": "execute_result"
    },
    {
     "data": {
      "image/png": "[encoded data removed]",
      "text/plain": [
       "<Figure size 432x288 with 1 Axes>"
      ]
     },
     "metadata": {
      "needs_background": "light"
     },
     "output_type": "display_data"
    }
   ],
   "source": [
    "plt.plot(history.history['val_loss'])"
   ]
  },
  {
   "cell_type": "code",
   "execution_count": 31,
   "id": "ee358734",
   "metadata": {
    "execution": {
     "iopub.execute_input": "2022-07-20T17:50:43.777814Z",
     "iopub.status.busy": "2022-07-20T17:50:43.776254Z",
     "iopub.status.idle": "2022-07-20T17:50:43.955142Z",
     "shell.execute_reply": "2022-07-20T17:50:43.954301Z"
    },
    "papermill": {
     "duration": 0.202495,
     "end_time": "2022-07-20T17:50:43.957306",
     "exception": false,
     "start_time": "2022-07-20T17:50:43.754811",
     "status": "completed"
    },
    "tags": []
   },
   "outputs": [
    {
     "data": {
      "text/plain": [
       "[<matplotlib.lines.Line2D at 0x7fab51461f90>]"
      ]
     },
     "execution_count": 31,
     "metadata": {},
     "output_type": "execute_result"
    },
    {
     "data": {
      "image/png": "[encoded data removed]",
      "text/plain": [
       "<Figure size 432x288 with 1 Axes>"
      ]
     },
     "metadata": {
      "needs_background": "light"
     },
     "output_type": "display_data"
    }
   ],
   "source": [
    "plt.plot(history.history['accuracy'])\n",
    "plt.plot(history.history['val_accuracy'])"
   ]
  }
 ],
 "metadata": {
  "kernelspec": {
   "display_name": "Python 3",
   "language": "python",
   "name": "python3"
  },
  "language_info": {
   "codemirror_mode": {
    "name": "ipython",
    "version": 3
   },
   "file_extension": ".py",
   "mimetype": "text/x-python",
   "name": "python",
   "nbconvert_exporter": "python",
   "pygments_lexer": "ipython3",
   "version": "3.7.12"
  },
  "papermill": {
   "default_parameters": {},
   "duration": 33.321094,
   "end_time": "2022-07-20T17:50:47.593738",
   "environment_variables": {},
   "exception": null,
   "input_path": "__notebook__.ipynb",
   "output_path": "__notebook__.ipynb",
   "parameters": {},
   "start_time": "2022-07-20T17:50:14.272644",
   "version": "2.3.4"
  }
 },
 "nbformat": 4,
 "nbformat_minor": 5
}
